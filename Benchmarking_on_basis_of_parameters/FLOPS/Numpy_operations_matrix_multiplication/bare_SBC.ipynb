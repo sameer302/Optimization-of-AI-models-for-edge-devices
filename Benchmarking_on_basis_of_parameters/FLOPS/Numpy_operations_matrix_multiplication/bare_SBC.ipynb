{
 "cells": [
  {
   "cell_type": "code",
   "execution_count": null,
   "id": "85c823bc",
   "metadata": {},
   "outputs": [],
   "source": [
    "import numpy as np\n",
    "import time\n",
    "import psutil\n",
    "\n",
    "def estimate_flops(matrix_size, iterations=10):\n",
    "    A = np.random.rand(matrix_size, matrix_size)\n",
    "    B = np.random.rand(matrix_size, matrix_size)\n",
    "\n",
    "    # Warm-up\n",
    "    np.dot(A, B)\n",
    "\n",
    "    start = time.time()\n",
    "    for _ in range(iterations):\n",
    "        np.dot(A, B)\n",
    "    end = time.time()\n",
    "\n",
    "    elapsed_time = end - start\n",
    "    total_ops = 2 * (matrix_size ** 3) * iterations  # FLOPs for matrix multiplication\n",
    "    flops = total_ops / elapsed_time\n",
    "    return flops / 1e9  # Convert to GFLOPS, 1e9 = 10^9\n",
    "\n",
    "\n",
    "def get_available_ram():\n",
    "    mem = psutil.virtual_memory()\n",
    "    return mem.available  # in bytes\n",
    "\n",
    "def matrix_memory_required(size):\n",
    "    # Each float64 takes 8 bytes; two matrices A and B\n",
    "    return 2 * (size ** 2) * 8  # in bytes\n",
    "\n",
    "def benchmark_loop(max_size=9728, step=256):\n",
    "    available_ram = get_available_ram()\n",
    "    print(f\"Available RAM: {available_ram / (1024 ** 2):.2f} MiB\\n\") # :.2f -> print decimal value upto 2 decimal places\n",
    "\n",
    "    for size in range(step, max_size + step, step):\n",
    "        required_mem = matrix_memory_required(size)\n",
    "        print(f\"{required_mem/(1024**2):.2f} MiB\", end=\" \")\n",
    "        if required_mem > available_ram * 0.5:  # Use only up to 50% of available RAM\n",
    "            print(f\"Skipping size {size}x{size} - requires too much memory ({required_mem / (1024 ** 2):.2f} MiB)\")\n",
    "            continue\n",
    "\n",
    "        gflops = estimate_flops(size)\n",
    "        print(f\"Size: {size}x{size} ? Estimated GFLOPS: {gflops:.2f}\")\n",
    "\n",
    "benchmark_loop()\n"
   ]
  }
 ],
 "metadata": {
  "language_info": {
   "name": "python"
  }
 },
 "nbformat": 4,
 "nbformat_minor": 5
}
