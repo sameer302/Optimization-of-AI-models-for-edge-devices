{
 "cells": [
  {
   "cell_type": "markdown",
   "id": "206dbf12",
   "metadata": {},
   "source": [
    "Experiment 0 : Effect of memory access at different levels.\n",
    "\n",
    "Goal : To see how runtime increases with increase in matrix size due to memory access shifting from cache to RAM and also get the edge value from where RAM access starts.\n",
    "\n",
    "Setup: \n",
    "Raspberry pi 5, 16GB, running Raspberry Pi OS Bookworm\n",
    "Cooling: Active cooler (fan) and heatsink\n",
    "Power Supply: 27W USB-C Power supply\n",
    "Measurement tools: vcgencmd or sysfs\n",
    "Scripts used: latency_bench.py\n",
    "\n",
    "Independent variables:\n",
    "Matrix size: (64 x 64) to (2049 x 2049)\n",
    "Precision: float32\n",
    "Cores: 1\n",
    "Threads: 1\n",
    "GPU: no\n",
    "NPU: no\n",
    "Active cooling/Fan speed: Default\n",
    "Power supply: 27W USB-C Power supply\n",
    "\n",
    "Dependent variables:\n",
    "Runtime (s)\n",
    "GFLOPS\n"
   ]
  },
  {
   "cell_type": "code",
   "execution_count": null,
   "id": "a1dfee5e",
   "metadata": {
    "vscode": {
     "languageId": "plaintext"
    }
   },
   "outputs": [],
   "source": [
    "import os, psutil, sys\n",
    "sys.path.append(\"..\")  # so Python can find your benchmarks/ folder\n",
    "\n",
    "# ---  Pin this notebook process to specific CPU core(s)\n",
    "p = psutil.Process(os.getpid())\n",
    "p.cpu_affinity([0])  # e.g. [0] for core 0; use [0,1,2,3] for all cores\n",
    "print(\" Pinned to cores:\", p.cpu_affinity())\n",
    "\n",
    "# --- Limit OpenBLAS / NumPy threading (controls how many cores are used)\n",
    "os.environ[\"OPENBLAS_NUM_THREADS\"] = \"1\"  # single-core computation\n",
    "os.environ[\"OMP_NUM_THREADS\"] = \"1\"\n",
    "\n",
    "# --- Import and run the benchmark\n",
    "from benchmarks.latency_bench import run_latency_bench\n",
    "run_latency_bench(outfile=\"latency_core0.csv\")\n"
   ]
  }
 ],
 "metadata": {
  "language_info": {
   "name": "python"
  }
 },
 "nbformat": 4,
 "nbformat_minor": 5
}
