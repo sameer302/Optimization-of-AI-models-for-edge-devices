{
 "cells": [
  {
   "cell_type": "markdown",
   "metadata": {},
   "source": [
    "Matrix multiplication of two square matrices"
   ]
  },
  {
   "cell_type": "code",
   "execution_count": 1,
   "metadata": {},
   "outputs": [
    {
     "name": "stdout",
     "output_type": "stream",
     "text": [
      "Available RAM: 25980.14 MiB\n",
      "\n",
      "1.00 MiB Size: 256x256 → Estimated GFLOPS: 79.11\n",
      "4.00 MiB Size: 512x512 → Estimated GFLOPS: 92.17\n",
      "9.00 MiB Size: 768x768 → Estimated GFLOPS: 118.58\n",
      "16.00 MiB Size: 1024x1024 → Estimated GFLOPS: 136.71\n",
      "25.00 MiB Size: 1280x1280 → Estimated GFLOPS: 144.38\n",
      "36.00 MiB Size: 1536x1536 → Estimated GFLOPS: 148.15\n",
      "49.00 MiB Size: 1792x1792 → Estimated GFLOPS: 176.13\n",
      "64.00 MiB Size: 2048x2048 → Estimated GFLOPS: 154.05\n"
     ]
    }
   ],
   "source": [
    "import numpy as np\n",
    "import time\n",
    "import psutil\n",
    "\n",
    "def estimate_flops(matrix_size, iterations=10):\n",
    "    A = np.random.rand(matrix_size, matrix_size)\n",
    "    B = np.random.rand(matrix_size, matrix_size)\n",
    "\n",
    "    # Warm-up\n",
    "    np.dot(A, B)\n",
    "\n",
    "    start = time.time()\n",
    "    for _ in range(iterations):\n",
    "        np.dot(A, B)\n",
    "    end = time.time()\n",
    "\n",
    "    elapsed_time = end - start\n",
    "    total_ops = 2 * (matrix_size ** 3) * iterations  # FLOPs for matrix multiplication\n",
    "    flops = total_ops / elapsed_time\n",
    "    return flops / (2**30)  # Convert to GFLOPS\n",
    "\n",
    "\n",
    "def get_available_ram():\n",
    "    mem = psutil.virtual_memory()\n",
    "    return mem.available  # in bytes\n",
    "\n",
    "def matrix_memory_required(size):\n",
    "    # Each float64 takes 8 bytes; two matrices A and B\n",
    "    return 2 * (size ** 2) * 8  # in bytes\n",
    "\n",
    "def benchmark_loop(max_size=9728, step=256):\n",
    "    available_ram = get_available_ram()\n",
    "    print(f\"Available RAM: {available_ram / (2 ** 20):.2f} MiB\\n\") # :.2f -> print decimal value upto 2 decimal places\n",
    "\n",
    "    for size in range(step, max_size + step, step):\n",
    "        required_mem = matrix_memory_required(size)\n",
    "        print(f\"{required_mem/(2**20):.2f} MiB\", end=\" \")\n",
    "        if required_mem > available_ram * 0.5:  # Use only up to 50% of available RAM\n",
    "            print(f\"Skipping size {size}x{size} - requires too much memory ({required_mem / (2 ** 20):.2f} MiB)\")\n",
    "            continue\n",
    "\n",
    "        gflops = estimate_flops(size)    \n",
    "        print(f\"Size: {size}x{size} → Estimated GFLOPS: {gflops:.2f}\")\n",
    "\n",
    "benchmark_loop()"
   ]
  }
 ],
 "metadata": {
  "kernelspec": {
   "display_name": "Python 3",
   "language": "python",
   "name": "python3"
  },
  "language_info": {
   "codemirror_mode": {
    "name": "ipython",
    "version": 3
   },
   "file_extension": ".py",
   "mimetype": "text/x-python",
   "name": "python",
   "nbconvert_exporter": "python",
   "pygments_lexer": "ipython3",
   "version": "3.10.12"
  }
 },
 "nbformat": 4,
 "nbformat_minor": 2
}
