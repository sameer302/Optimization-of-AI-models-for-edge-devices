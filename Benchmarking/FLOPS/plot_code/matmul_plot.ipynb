{
 "cells": [
  {
   "cell_type": "markdown",
   "id": "10f6360a",
   "metadata": {},
   "source": [
    "Plotting time vs temperature for matmul operation"
   ]
  },
  {
   "cell_type": "code",
   "execution_count": null,
   "id": "da4f1e89",
   "metadata": {},
   "outputs": [
    {
     "ename": "SyntaxError",
     "evalue": "(unicode error) 'unicodeescape' codec can't decode bytes in position 2-3: truncated \\UXXXXXXXX escape (660739996.py, line 5)",
     "output_type": "error",
     "traceback": [
      "  \u001b[36mCell\u001b[39m\u001b[36m \u001b[39m\u001b[32mIn[1]\u001b[39m\u001b[32m, line 5\u001b[39m\n\u001b[31m    \u001b[39m\u001b[31mdf = pd.read_csv('C:\\Users\\intel\\OneDrive\\Desktop\\IIT_Bombay\\Autumn2025\\R&D_optimization_of_AI_models_for_edge_devices\\Codespace\\Optimization-of-AI-models-for-edge-devices\\Benchmarking\\FLOPS\\logs\\matmul_benchmark_temps.csv')\u001b[39m\n                     ^\n\u001b[31mSyntaxError\u001b[39m\u001b[31m:\u001b[39m (unicode error) 'unicodeescape' codec can't decode bytes in position 2-3: truncated \\UXXXXXXXX escape\n"
     ]
    }
   ],
   "source": [
    "# 1. Import the necessary libraries\n",
    "import pandas as pd\n",
    "import plotly.express as px\n",
    "import os\n",
    "import matplotlib.pyplot as plt\n",
    "import matplotlib.dates as mdates\n",
    "\n",
    "# Read your CSV, with correct date conversion\n",
    "df = pd.read_csv('ETTh1.csv')\n",
    "df['date'] = pd.to_datetime(df['date'], format='%d-%m-%Y %H:%M')\n",
    "\n",
    "plt.figure(figsize=(14,6))\n",
    "plt.plot(df['date'], df['OT'], color='blue', linewidth=2, label='Oil Temperature')\n",
    "plt.xlabel('Month')\n",
    "plt.ylabel('Oil Temperature')\n",
    "plt.title('ETTh1 - Oil Temperature Over Time')\n",
    "plt.legend()\n",
    "\n",
    "plt.gca().xaxis.set_major_locator(mdates.MonthLocator())\n",
    "plt.gca().xaxis.set_major_formatter(mdates.DateFormatter('%Y/%m'))\n",
    "\n",
    "plt.xticks(rotation=45)\n",
    "plt.tight_layout()\n",
    "\n",
    "# Save as PNG (best for GitHub preview)\n",
    "plt.savefig('monthly_view_plot.png', dpi=150)\n"
   ]
  }
 ],
 "metadata": {
  "kernelspec": {
   "display_name": "Python 3",
   "language": "python",
   "name": "python3"
  },
  "language_info": {
   "codemirror_mode": {
    "name": "ipython",
    "version": 3
   },
   "file_extension": ".py",
   "mimetype": "text/x-python",
   "name": "python",
   "nbconvert_exporter": "python",
   "pygments_lexer": "ipython3",
   "version": "3.13.4"
  }
 },
 "nbformat": 4,
 "nbformat_minor": 5
}
