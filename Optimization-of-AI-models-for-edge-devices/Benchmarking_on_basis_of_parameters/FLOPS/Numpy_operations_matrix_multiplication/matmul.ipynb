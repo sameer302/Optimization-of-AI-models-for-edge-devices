{
 "cells": [
  {
   "cell_type": "markdown",
   "id": "641a898d",
   "metadata": {},
   "source": [
    "Simple raspberry pi 5 (16GB) SBC without any accessories."
   ]
  },
  {
   "cell_type": "code",
   "execution_count": null,
   "id": "85c823bc",
   "metadata": {},
   "outputs": [
    {
     "name": "stdout",
     "output_type": "stream",
     "text": [
      "Available RAM: 13674.44 MiB\n",
      "\n",
      "1.00 MiB Size: 256x256 ? Estimated GFLOPS: 48.67\n",
      "4.00 MiB Size: 512x512 ? Estimated GFLOPS: 31.29\n",
      "9.00 MiB Size: 768x768 ? Estimated GFLOPS: 27.53\n",
      "16.00 MiB Size: 1024x1024 ? Estimated GFLOPS: 29.18\n",
      "25.00 MiB Size: 1280x1280 ? Estimated GFLOPS: 27.45\n",
      "36.00 MiB Size: 1536x1536 ? Estimated GFLOPS: 27.49\n",
      "49.00 MiB Size: 1792x1792 ? Estimated GFLOPS: 30.02\n",
      "64.00 MiB Size: 2048x2048 ? Estimated GFLOPS: 29.32\n",
      "81.00 MiB Size: 2304x2304 ? Estimated GFLOPS: 30.23\n",
      "100.00 MiB Size: 2560x2560 ? Estimated GFLOPS: 32.65\n",
      "121.00 MiB Size: 2816x2816 ? Estimated GFLOPS: 29.17\n",
      "144.00 MiB Size: 3072x3072 ? Estimated GFLOPS: 31.27\n",
      "169.00 MiB Size: 3328x3328 ? Estimated GFLOPS: 29.15\n",
      "196.00 MiB Size: 3584x3584 ? Estimated GFLOPS: 28.40\n",
      "225.00 MiB Size: 3840x3840 ? Estimated GFLOPS: 27.22\n",
      "256.00 MiB Size: 4096x4096 ? Estimated GFLOPS: 19.77\n",
      "289.00 MiB "
     ]
    },
    {
     "ename": "KeyboardInterrupt",
     "evalue": "",
     "output_type": "error",
     "traceback": [
      "\u001b[31m---------------------------------------------------------------------------\u001b[39m",
      "\u001b[31mKeyboardInterrupt\u001b[39m                         Traceback (most recent call last)",
      "\u001b[36mCell\u001b[39m\u001b[36m \u001b[39m\u001b[32mIn[3]\u001b[39m\u001b[32m, line 45\u001b[39m\n\u001b[32m     42\u001b[39m         gflops = estimate_flops(size)\n\u001b[32m     43\u001b[39m         \u001b[38;5;28mprint\u001b[39m(\u001b[33mf\u001b[39m\u001b[33m\"\u001b[39m\u001b[33mSize: \u001b[39m\u001b[38;5;132;01m{\u001b[39;00msize\u001b[38;5;132;01m}\u001b[39;00m\u001b[33mx\u001b[39m\u001b[38;5;132;01m{\u001b[39;00msize\u001b[38;5;132;01m}\u001b[39;00m\u001b[33m ? Estimated GFLOPS: \u001b[39m\u001b[38;5;132;01m{\u001b[39;00mgflops\u001b[38;5;132;01m:\u001b[39;00m\u001b[33m.2f\u001b[39m\u001b[38;5;132;01m}\u001b[39;00m\u001b[33m\"\u001b[39m)\n\u001b[32m---> \u001b[39m\u001b[32m45\u001b[39m \u001b[43mbenchmark_loop\u001b[49m\u001b[43m(\u001b[49m\u001b[43m)\u001b[49m\n",
      "\u001b[36mCell\u001b[39m\u001b[36m \u001b[39m\u001b[32mIn[3]\u001b[39m\u001b[32m, line 42\u001b[39m, in \u001b[36mbenchmark_loop\u001b[39m\u001b[34m(max_size, step)\u001b[39m\n\u001b[32m     39\u001b[39m     \u001b[38;5;28mprint\u001b[39m(\u001b[33mf\u001b[39m\u001b[33m\"\u001b[39m\u001b[33mSkipping size \u001b[39m\u001b[38;5;132;01m{\u001b[39;00msize\u001b[38;5;132;01m}\u001b[39;00m\u001b[33mx\u001b[39m\u001b[38;5;132;01m{\u001b[39;00msize\u001b[38;5;132;01m}\u001b[39;00m\u001b[33m - requires too much memory (\u001b[39m\u001b[38;5;132;01m{\u001b[39;00mrequired_mem\u001b[38;5;250m \u001b[39m/\u001b[38;5;250m \u001b[39m(\u001b[32m1024\u001b[39m\u001b[38;5;250m \u001b[39m**\u001b[38;5;250m \u001b[39m\u001b[32m2\u001b[39m)\u001b[38;5;132;01m:\u001b[39;00m\u001b[33m.2f\u001b[39m\u001b[38;5;132;01m}\u001b[39;00m\u001b[33m MiB)\u001b[39m\u001b[33m\"\u001b[39m)\n\u001b[32m     40\u001b[39m     \u001b[38;5;28;01mcontinue\u001b[39;00m\n\u001b[32m---> \u001b[39m\u001b[32m42\u001b[39m gflops = \u001b[43mestimate_flops\u001b[49m\u001b[43m(\u001b[49m\u001b[43msize\u001b[49m\u001b[43m)\u001b[49m\n\u001b[32m     43\u001b[39m \u001b[38;5;28mprint\u001b[39m(\u001b[33mf\u001b[39m\u001b[33m\"\u001b[39m\u001b[33mSize: \u001b[39m\u001b[38;5;132;01m{\u001b[39;00msize\u001b[38;5;132;01m}\u001b[39;00m\u001b[33mx\u001b[39m\u001b[38;5;132;01m{\u001b[39;00msize\u001b[38;5;132;01m}\u001b[39;00m\u001b[33m ? Estimated GFLOPS: \u001b[39m\u001b[38;5;132;01m{\u001b[39;00mgflops\u001b[38;5;132;01m:\u001b[39;00m\u001b[33m.2f\u001b[39m\u001b[38;5;132;01m}\u001b[39;00m\u001b[33m\"\u001b[39m)\n",
      "\u001b[36mCell\u001b[39m\u001b[36m \u001b[39m\u001b[32mIn[3]\u001b[39m\u001b[32m, line 14\u001b[39m, in \u001b[36mestimate_flops\u001b[39m\u001b[34m(matrix_size, iterations)\u001b[39m\n\u001b[32m     12\u001b[39m start = time.time()\n\u001b[32m     13\u001b[39m \u001b[38;5;28;01mfor\u001b[39;00m _ \u001b[38;5;129;01min\u001b[39;00m \u001b[38;5;28mrange\u001b[39m(iterations):\n\u001b[32m---> \u001b[39m\u001b[32m14\u001b[39m     \u001b[43mnp\u001b[49m\u001b[43m.\u001b[49m\u001b[43mdot\u001b[49m\u001b[43m(\u001b[49m\u001b[43mA\u001b[49m\u001b[43m,\u001b[49m\u001b[43m \u001b[49m\u001b[43mB\u001b[49m\u001b[43m)\u001b[49m\n\u001b[32m     15\u001b[39m end = time.time()\n\u001b[32m     17\u001b[39m elapsed_time = end - start\n",
      "\u001b[31mKeyboardInterrupt\u001b[39m: "
     ]
    }
   ],
   "source": [
    "import numpy as np\n",
    "import time\n",
    "import psutil\n",
    "\n",
    "def estimate_flops(matrix_size, iterations=10):\n",
    "    A = np.random.rand(matrix_size, matrix_size)\n",
    "    B = np.random.rand(matrix_size, matrix_size)\n",
    "\n",
    "    # Warm-up\n",
    "    np.dot(A, B)\n",
    "\n",
    "    start = time.time()\n",
    "    for _ in range(iterations):\n",
    "        np.dot(A, B)\n",
    "    end = time.time()\n",
    "\n",
    "    elapsed_time = end - start\n",
    "    total_ops = 2 * (matrix_size ** 3) * iterations  # FLOPs for matrix multiplication\n",
    "    flops = total_ops / elapsed_time\n",
    "    return flops / 1e9  # Convert to GFLOPS, 1e9 = 10^9\n",
    "\n",
    "\n",
    "def get_available_ram():\n",
    "    mem = psutil.virtual_memory()\n",
    "    return mem.available  # in bytes\n",
    "\n",
    "def matrix_memory_required(size):\n",
    "    # Each float64 takes 8 bytes; two matrices A and B\n",
    "    return 2 * (size ** 2) * 8  # in bytes\n",
    "\n",
    "def benchmark_loop(max_size=9728, step=256):\n",
    "    available_ram = get_available_ram()\n",
    "    print(f\"Available RAM: {available_ram / (1024 ** 2):.2f} MiB\\n\") # :.2f -> print decimal value upto 2 decimal places\n",
    "\n",
    "    for size in range(step, max_size + step, step):\n",
    "        required_mem = matrix_memory_required(size)\n",
    "        print(f\"{required_mem/(1024**2):.2f} MiB\", end=\" \")\n",
    "        if required_mem > available_ram * 0.5:  # Use only up to 50% of available RAM\n",
    "            print(f\"Skipping size {size}x{size} - requires too much memory ({required_mem / (1024 ** 2):.2f} MiB)\")\n",
    "            continue\n",
    "\n",
    "        gflops = estimate_flops(size)\n",
    "        print(f\"Size: {size}x{size} - Estimated GFLOPS: {gflops:.2f}\")\n",
    "\n",
    "benchmark_loop()\n"
   ]
  }
 ],
 "metadata": {
  "kernelspec": {
   "display_name": "venv",
   "language": "python",
   "name": "python3"
  },
  "language_info": {
   "codemirror_mode": {
    "name": "ipython",
    "version": 3
   },
   "file_extension": ".py",
   "mimetype": "text/x-python",
   "name": "python",
   "nbconvert_exporter": "python",
   "pygments_lexer": "ipython3",
   "version": "3.11.2"
  }
 },
 "nbformat": 4,
 "nbformat_minor": 5
}
